{
 "cells": [
  {
   "cell_type": "code",
   "execution_count": 1,
   "id": "3315bea2-6b25-409f-bef2-cd776744c1db",
   "metadata": {
    "collapsed": true,
    "jupyter": {
     "outputs_hidden": true
    },
    "tags": []
   },
   "outputs": [
    {
     "name": "stdout",
     "output_type": "stream",
     "text": [
      "Defaulting to user installation because normal site-packages is not writeable\n",
      "Requirement already satisfied: torch>=1.6.0 in /opt/python310/lib/python3.10/site-packages (from -r src/requirements.txt (line 1)) (2.0.0+cu118)\n",
      "Requirement already satisfied: torch-geometric>=1.6.1 in /opt/python310/lib/python3.10/site-packages (from -r src/requirements.txt (line 2)) (2.4.0)\n",
      "Requirement already satisfied: torchvision>=0.7.0 in /opt/python310/lib/python3.10/site-packages (from -r src/requirements.txt (line 3)) (0.15.1+cu118)\n",
      "Requirement already satisfied: tensorboardX in /work/LAS/jannesar-lab/.ondemand/msharif/jupyter-envs/20230427/lib/python3.10/site-packages (from -r src/requirements.txt (line 4)) (2.6.2.2)\n",
      "Collecting seaborn==0.10.1 (from -r src/requirements.txt (line 5))\n",
      "  Downloading seaborn-0.10.1-py3-none-any.whl.metadata (2.3 kB)\n",
      "Requirement already satisfied: omegaconf in /work/LAS/jannesar-lab/.ondemand/msharif/jupyter-envs/20230427/lib/python3.10/site-packages (from -r src/requirements.txt (line 7)) (2.3.0)\n",
      "Requirement already satisfied: tensorflow in /work/LAS/jannesar-lab/.ondemand/msharif/jupyter-envs/20230427/lib/python3.10/site-packages (from -r src/requirements.txt (line 8)) (2.16.1)\n",
      "Requirement already satisfied: scikeras in /work/LAS/jannesar-lab/.ondemand/msharif/jupyter-envs/20230427/lib/python3.10/site-packages (from -r src/requirements.txt (line 9)) (0.13.0)\n",
      "Requirement already satisfied: lightgbm in /work/LAS/jannesar-lab/.ondemand/msharif/jupyter-envs/20230427/lib/python3.10/site-packages (from -r src/requirements.txt (line 10)) (4.3.0)\n",
      "Requirement already satisfied: pyarrow in /work/LAS/jannesar-lab/.ondemand/msharif/jupyter-envs/20230427/lib/python3.10/site-packages (from -r src/requirements.txt (line 11)) (15.0.2)\n",
      "Requirement already satisfied: dgl in /work/LAS/jannesar-lab/.ondemand/msharif/jupyter-envs/20230427/lib/python3.10/site-packages (from -r src/requirements.txt (line 12)) (1.1.3)\n",
      "Requirement already satisfied: pydantic in /work/LAS/jannesar-lab/.ondemand/msharif/jupyter-envs/20230427/lib/python3.10/site-packages (from -r src/requirements.txt (line 13)) (2.7.0)\n",
      "Requirement already satisfied: numpy>=1.13.3 in /work/LAS/jannesar-lab/.ondemand/msharif/jupyter-envs/20230427/lib/python3.10/site-packages (from seaborn==0.10.1->-r src/requirements.txt (line 5)) (1.26.4)\n",
      "Requirement already satisfied: scipy>=1.0.1 in /opt/python310/lib/python3.10/site-packages (from seaborn==0.10.1->-r src/requirements.txt (line 5)) (1.10.1)\n",
      "Requirement already satisfied: pandas>=0.22.0 in /opt/python310/lib/python3.10/site-packages (from seaborn==0.10.1->-r src/requirements.txt (line 5)) (2.0.1)\n",
      "Requirement already satisfied: matplotlib>=2.1.2 in /opt/python310/lib/python3.10/site-packages (from seaborn==0.10.1->-r src/requirements.txt (line 5)) (3.7.1)\n",
      "Requirement already satisfied: filelock in /opt/python310/lib/python3.10/site-packages (from torch>=1.6.0->-r src/requirements.txt (line 1)) (3.9.0)\n",
      "Requirement already satisfied: typing-extensions in /work/LAS/jannesar-lab/.ondemand/msharif/jupyter-envs/20230427/lib/python3.10/site-packages (from torch>=1.6.0->-r src/requirements.txt (line 1)) (4.11.0)\n",
      "Requirement already satisfied: sympy in /opt/python310/lib/python3.10/site-packages (from torch>=1.6.0->-r src/requirements.txt (line 1)) (1.11.1)\n",
      "Requirement already satisfied: networkx in /opt/python310/lib/python3.10/site-packages (from torch>=1.6.0->-r src/requirements.txt (line 1)) (3.0)\n",
      "Requirement already satisfied: jinja2 in /opt/python310/lib/python3.10/site-packages (from torch>=1.6.0->-r src/requirements.txt (line 1)) (3.1.2)\n",
      "Requirement already satisfied: triton==2.0.0 in /opt/python310/lib/python3.10/site-packages (from torch>=1.6.0->-r src/requirements.txt (line 1)) (2.0.0)\n",
      "Requirement already satisfied: cmake in /opt/python310/lib/python3.10/site-packages (from triton==2.0.0->torch>=1.6.0->-r src/requirements.txt (line 1)) (3.25.0)\n",
      "Requirement already satisfied: lit in /opt/python310/lib/python3.10/site-packages (from triton==2.0.0->torch>=1.6.0->-r src/requirements.txt (line 1)) (15.0.7)\n",
      "Requirement already satisfied: tqdm in /opt/python310/lib/python3.10/site-packages (from torch-geometric>=1.6.1->-r src/requirements.txt (line 2)) (4.65.0)\n",
      "Requirement already satisfied: requests in /opt/python310/lib/python3.10/site-packages (from torch-geometric>=1.6.1->-r src/requirements.txt (line 2)) (2.29.0)\n",
      "Requirement already satisfied: pyparsing in /opt/python310/lib/python3.10/site-packages (from torch-geometric>=1.6.1->-r src/requirements.txt (line 2)) (3.0.9)\n",
      "Requirement already satisfied: scikit-learn in /work/LAS/jannesar-lab/.ondemand/msharif/jupyter-envs/20230427/lib/python3.10/site-packages (from torch-geometric>=1.6.1->-r src/requirements.txt (line 2)) (1.4.2)\n",
      "Requirement already satisfied: psutil>=5.8.0 in /opt/python310/lib/python3.10/site-packages (from torch-geometric>=1.6.1->-r src/requirements.txt (line 2)) (5.9.5)\n",
      "Requirement already satisfied: pillow!=8.3.*,>=5.3.0 in /opt/python310/lib/python3.10/site-packages (from torchvision>=0.7.0->-r src/requirements.txt (line 3)) (9.3.0)\n",
      "Requirement already satisfied: packaging in /opt/python310/lib/python3.10/site-packages (from tensorboardX->-r src/requirements.txt (line 4)) (23.1)\n",
      "Requirement already satisfied: protobuf>=3.20 in /opt/python310/lib/python3.10/site-packages (from tensorboardX->-r src/requirements.txt (line 4)) (4.22.3)\n",
      "Requirement already satisfied: antlr4-python3-runtime==4.9.* in /work/LAS/jannesar-lab/.ondemand/msharif/jupyter-envs/20230427/lib/python3.10/site-packages (from omegaconf->-r src/requirements.txt (line 7)) (4.9.3)\n",
      "Requirement already satisfied: PyYAML>=5.1.0 in /opt/python310/lib/python3.10/site-packages (from omegaconf->-r src/requirements.txt (line 7)) (6.0)\n",
      "Requirement already satisfied: absl-py>=1.0.0 in /opt/python310/lib/python3.10/site-packages (from tensorflow->-r src/requirements.txt (line 8)) (1.4.0)\n",
      "Requirement already satisfied: astunparse>=1.6.0 in /opt/python310/lib/python3.10/site-packages (from tensorflow->-r src/requirements.txt (line 8)) (1.6.3)\n",
      "Requirement already satisfied: flatbuffers>=23.5.26 in /work/LAS/jannesar-lab/.ondemand/msharif/jupyter-envs/20230427/lib/python3.10/site-packages (from tensorflow->-r src/requirements.txt (line 8)) (24.3.25)\n",
      "Requirement already satisfied: gast!=0.5.0,!=0.5.1,!=0.5.2,>=0.2.1 in /opt/python310/lib/python3.10/site-packages (from tensorflow->-r src/requirements.txt (line 8)) (0.4.0)\n",
      "Requirement already satisfied: google-pasta>=0.1.1 in /opt/python310/lib/python3.10/site-packages (from tensorflow->-r src/requirements.txt (line 8)) (0.2.0)\n",
      "Requirement already satisfied: h5py>=3.10.0 in /work/LAS/jannesar-lab/.ondemand/msharif/jupyter-envs/20230427/lib/python3.10/site-packages (from tensorflow->-r src/requirements.txt (line 8)) (3.11.0)\n",
      "Requirement already satisfied: libclang>=13.0.0 in /opt/python310/lib/python3.10/site-packages (from tensorflow->-r src/requirements.txt (line 8)) (16.0.0)\n",
      "Requirement already satisfied: ml-dtypes~=0.3.1 in /work/LAS/jannesar-lab/.ondemand/msharif/jupyter-envs/20230427/lib/python3.10/site-packages (from tensorflow->-r src/requirements.txt (line 8)) (0.3.2)\n",
      "Requirement already satisfied: opt-einsum>=2.3.2 in /opt/python310/lib/python3.10/site-packages (from tensorflow->-r src/requirements.txt (line 8)) (3.3.0)\n",
      "Requirement already satisfied: setuptools in /work/LAS/jannesar-lab/.ondemand/msharif/jupyter-envs/20230427/lib/python3.10/site-packages (from tensorflow->-r src/requirements.txt (line 8)) (65.5.0)\n",
      "Requirement already satisfied: six>=1.12.0 in /opt/python310/lib/python3.10/site-packages (from tensorflow->-r src/requirements.txt (line 8)) (1.16.0)\n",
      "Requirement already satisfied: termcolor>=1.1.0 in /opt/python310/lib/python3.10/site-packages (from tensorflow->-r src/requirements.txt (line 8)) (2.3.0)\n",
      "Requirement already satisfied: wrapt>=1.11.0 in /opt/python310/lib/python3.10/site-packages (from tensorflow->-r src/requirements.txt (line 8)) (1.14.1)\n",
      "Requirement already satisfied: grpcio<2.0,>=1.24.3 in /opt/python310/lib/python3.10/site-packages (from tensorflow->-r src/requirements.txt (line 8)) (1.54.0)\n",
      "Requirement already satisfied: tensorboard<2.17,>=2.16 in /work/LAS/jannesar-lab/.ondemand/msharif/jupyter-envs/20230427/lib/python3.10/site-packages (from tensorflow->-r src/requirements.txt (line 8)) (2.16.2)\n",
      "Requirement already satisfied: keras>=3.0.0 in /work/LAS/jannesar-lab/.ondemand/msharif/jupyter-envs/20230427/lib/python3.10/site-packages (from tensorflow->-r src/requirements.txt (line 8)) (3.2.1)\n",
      "Requirement already satisfied: tensorflow-io-gcs-filesystem>=0.23.1 in /opt/python310/lib/python3.10/site-packages (from tensorflow->-r src/requirements.txt (line 8)) (0.32.0)\n",
      "Requirement already satisfied: annotated-types>=0.4.0 in /work/LAS/jannesar-lab/.ondemand/msharif/jupyter-envs/20230427/lib/python3.10/site-packages (from pydantic->-r src/requirements.txt (line 13)) (0.6.0)\n",
      "Requirement already satisfied: pydantic-core==2.18.1 in /work/LAS/jannesar-lab/.ondemand/msharif/jupyter-envs/20230427/lib/python3.10/site-packages (from pydantic->-r src/requirements.txt (line 13)) (2.18.1)\n",
      "Requirement already satisfied: nvidia-cublas-cu12==12.3.4.1 in /work/LAS/jannesar-lab/.ondemand/msharif/jupyter-envs/20230427/lib/python3.10/site-packages (from tensorflow[and-cuda]->-r src/requirements.txt (line 14)) (12.3.4.1)\n",
      "Requirement already satisfied: nvidia-cuda-cupti-cu12==12.3.101 in /work/LAS/jannesar-lab/.ondemand/msharif/jupyter-envs/20230427/lib/python3.10/site-packages (from tensorflow[and-cuda]->-r src/requirements.txt (line 14)) (12.3.101)\n",
      "Requirement already satisfied: nvidia-cuda-nvcc-cu12==12.3.107 in /work/LAS/jannesar-lab/.ondemand/msharif/jupyter-envs/20230427/lib/python3.10/site-packages (from tensorflow[and-cuda]->-r src/requirements.txt (line 14)) (12.3.107)\n",
      "Requirement already satisfied: nvidia-cuda-nvrtc-cu12==12.3.107 in /work/LAS/jannesar-lab/.ondemand/msharif/jupyter-envs/20230427/lib/python3.10/site-packages (from tensorflow[and-cuda]->-r src/requirements.txt (line 14)) (12.3.107)\n",
      "Requirement already satisfied: nvidia-cuda-runtime-cu12==12.3.101 in /work/LAS/jannesar-lab/.ondemand/msharif/jupyter-envs/20230427/lib/python3.10/site-packages (from tensorflow[and-cuda]->-r src/requirements.txt (line 14)) (12.3.101)\n",
      "Requirement already satisfied: nvidia-cudnn-cu12==8.9.7.29 in /work/LAS/jannesar-lab/.ondemand/msharif/jupyter-envs/20230427/lib/python3.10/site-packages (from tensorflow[and-cuda]->-r src/requirements.txt (line 14)) (8.9.7.29)\n",
      "Requirement already satisfied: nvidia-cufft-cu12==11.0.12.1 in /work/LAS/jannesar-lab/.ondemand/msharif/jupyter-envs/20230427/lib/python3.10/site-packages (from tensorflow[and-cuda]->-r src/requirements.txt (line 14)) (11.0.12.1)\n",
      "Requirement already satisfied: nvidia-curand-cu12==10.3.4.107 in /work/LAS/jannesar-lab/.ondemand/msharif/jupyter-envs/20230427/lib/python3.10/site-packages (from tensorflow[and-cuda]->-r src/requirements.txt (line 14)) (10.3.4.107)\n",
      "Requirement already satisfied: nvidia-cusolver-cu12==11.5.4.101 in /work/LAS/jannesar-lab/.ondemand/msharif/jupyter-envs/20230427/lib/python3.10/site-packages (from tensorflow[and-cuda]->-r src/requirements.txt (line 14)) (11.5.4.101)\n",
      "Requirement already satisfied: nvidia-cusparse-cu12==12.2.0.103 in /work/LAS/jannesar-lab/.ondemand/msharif/jupyter-envs/20230427/lib/python3.10/site-packages (from tensorflow[and-cuda]->-r src/requirements.txt (line 14)) (12.2.0.103)\n",
      "Requirement already satisfied: nvidia-nccl-cu12==2.19.3 in /work/LAS/jannesar-lab/.ondemand/msharif/jupyter-envs/20230427/lib/python3.10/site-packages (from tensorflow[and-cuda]->-r src/requirements.txt (line 14)) (2.19.3)\n",
      "Requirement already satisfied: nvidia-nvjitlink-cu12==12.3.101 in /work/LAS/jannesar-lab/.ondemand/msharif/jupyter-envs/20230427/lib/python3.10/site-packages (from tensorflow[and-cuda]->-r src/requirements.txt (line 14)) (12.3.101)\n",
      "Requirement already satisfied: wheel<1.0,>=0.23.0 in /opt/python310/lib/python3.10/site-packages (from astunparse>=1.6.0->tensorflow->-r src/requirements.txt (line 8)) (0.40.0)\n",
      "Requirement already satisfied: rich in /work/LAS/jannesar-lab/.ondemand/msharif/jupyter-envs/20230427/lib/python3.10/site-packages (from keras>=3.0.0->tensorflow->-r src/requirements.txt (line 8)) (13.7.1)\n",
      "Requirement already satisfied: namex in /work/LAS/jannesar-lab/.ondemand/msharif/jupyter-envs/20230427/lib/python3.10/site-packages (from keras>=3.0.0->tensorflow->-r src/requirements.txt (line 8)) (0.0.7)\n",
      "Requirement already satisfied: optree in /work/LAS/jannesar-lab/.ondemand/msharif/jupyter-envs/20230427/lib/python3.10/site-packages (from keras>=3.0.0->tensorflow->-r src/requirements.txt (line 8)) (0.11.0)\n",
      "Requirement already satisfied: contourpy>=1.0.1 in /opt/python310/lib/python3.10/site-packages (from matplotlib>=2.1.2->seaborn==0.10.1->-r src/requirements.txt (line 5)) (1.0.7)\n",
      "Requirement already satisfied: cycler>=0.10 in /work/LAS/jannesar-lab/.ondemand/msharif/jupyter-envs/20230427/lib/python3.10/site-packages (from matplotlib>=2.1.2->seaborn==0.10.1->-r src/requirements.txt (line 5)) (0.10.0)\n",
      "Requirement already satisfied: fonttools>=4.22.0 in /opt/python310/lib/python3.10/site-packages (from matplotlib>=2.1.2->seaborn==0.10.1->-r src/requirements.txt (line 5)) (4.39.3)\n",
      "Requirement already satisfied: kiwisolver>=1.0.1 in /opt/python310/lib/python3.10/site-packages (from matplotlib>=2.1.2->seaborn==0.10.1->-r src/requirements.txt (line 5)) (1.4.4)\n",
      "Requirement already satisfied: python-dateutil>=2.7 in /opt/python310/lib/python3.10/site-packages (from matplotlib>=2.1.2->seaborn==0.10.1->-r src/requirements.txt (line 5)) (2.8.2)\n",
      "Requirement already satisfied: pytz>=2020.1 in /opt/python310/lib/python3.10/site-packages (from pandas>=0.22.0->seaborn==0.10.1->-r src/requirements.txt (line 5)) (2023.3)\n",
      "Requirement already satisfied: tzdata>=2022.1 in /opt/python310/lib/python3.10/site-packages (from pandas>=0.22.0->seaborn==0.10.1->-r src/requirements.txt (line 5)) (2023.3)\n",
      "Requirement already satisfied: charset-normalizer<4,>=2 in /opt/python310/lib/python3.10/site-packages (from requests->torch-geometric>=1.6.1->-r src/requirements.txt (line 2)) (3.1.0)\n",
      "Requirement already satisfied: idna<4,>=2.5 in /work/LAS/jannesar-lab/.ondemand/msharif/jupyter-envs/20230427/lib/python3.10/site-packages (from requests->torch-geometric>=1.6.1->-r src/requirements.txt (line 2)) (2.10)\n",
      "Requirement already satisfied: urllib3<1.27,>=1.21.1 in /opt/python310/lib/python3.10/site-packages (from requests->torch-geometric>=1.6.1->-r src/requirements.txt (line 2)) (1.26.15)\n",
      "Requirement already satisfied: certifi>=2017.4.17 in /work/LAS/jannesar-lab/.ondemand/msharif/jupyter-envs/20230427/lib/python3.10/site-packages (from requests->torch-geometric>=1.6.1->-r src/requirements.txt (line 2)) (2023.7.22)\n",
      "Requirement already satisfied: joblib>=1.2.0 in /opt/python310/lib/python3.10/site-packages (from scikit-learn->torch-geometric>=1.6.1->-r src/requirements.txt (line 2)) (1.2.0)\n",
      "Requirement already satisfied: threadpoolctl>=2.0.0 in /opt/python310/lib/python3.10/site-packages (from scikit-learn->torch-geometric>=1.6.1->-r src/requirements.txt (line 2)) (3.1.0)\n",
      "Requirement already satisfied: markdown>=2.6.8 in /opt/python310/lib/python3.10/site-packages (from tensorboard<2.17,>=2.16->tensorflow->-r src/requirements.txt (line 8)) (3.4.3)\n",
      "Requirement already satisfied: tensorboard-data-server<0.8.0,>=0.7.0 in /opt/python310/lib/python3.10/site-packages (from tensorboard<2.17,>=2.16->tensorflow->-r src/requirements.txt (line 8)) (0.7.0)\n",
      "Requirement already satisfied: werkzeug>=1.0.1 in /opt/python310/lib/python3.10/site-packages (from tensorboard<2.17,>=2.16->tensorflow->-r src/requirements.txt (line 8)) (2.3.1)\n",
      "Requirement already satisfied: MarkupSafe>=2.0 in /opt/python310/lib/python3.10/site-packages (from jinja2->torch>=1.6.0->-r src/requirements.txt (line 1)) (2.1.2)\n",
      "Requirement already satisfied: mpmath>=0.19 in /opt/python310/lib/python3.10/site-packages (from sympy->torch>=1.6.0->-r src/requirements.txt (line 1)) (1.2.1)\n",
      "Requirement already satisfied: markdown-it-py>=2.2.0 in /work/LAS/jannesar-lab/.ondemand/msharif/jupyter-envs/20230427/lib/python3.10/site-packages (from rich->keras>=3.0.0->tensorflow->-r src/requirements.txt (line 8)) (3.0.0)\n",
      "Requirement already satisfied: pygments<3.0.0,>=2.13.0 in /opt/python310/lib/python3.10/site-packages (from rich->keras>=3.0.0->tensorflow->-r src/requirements.txt (line 8)) (2.15.1)\n",
      "Requirement already satisfied: mdurl~=0.1 in /work/LAS/jannesar-lab/.ondemand/msharif/jupyter-envs/20230427/lib/python3.10/site-packages (from markdown-it-py>=2.2.0->rich->keras>=3.0.0->tensorflow->-r src/requirements.txt (line 8)) (0.1.2)\n",
      "Downloading seaborn-0.10.1-py3-none-any.whl (215 kB)\n",
      "\u001b[2K   \u001b[90m━━━━━━━━━━━━━━━━━━━━━━━━━━━━━━━━━━━━━━━\u001b[0m \u001b[32m215.5/215.5 kB\u001b[0m \u001b[31m437.2 kB/s\u001b[0m eta \u001b[36m0:00:00\u001b[0m0:01\u001b[0m0:01\u001b[0m\n",
      "\u001b[?25hInstalling collected packages: seaborn\n",
      "  Attempting uninstall: seaborn\n",
      "    Found existing installation: seaborn 0.13.2\n",
      "    Uninstalling seaborn-0.13.2:\n",
      "      Successfully uninstalled seaborn-0.13.2\n",
      "Successfully installed seaborn-0.10.1\n",
      "Note: you may need to restart the kernel to use updated packages.\n"
     ]
    }
   ],
   "source": [
    "pip install -r src/requirements.txt"
   ]
  },
  {
   "cell_type": "code",
   "execution_count": 10,
   "id": "59b61964-6141-4708-be54-4e791eedfeb5",
   "metadata": {
    "tags": []
   },
   "outputs": [
    {
     "name": "stdout",
     "output_type": "stream",
     "text": [
      "2024-04-16 06:15:50.413659: I tensorflow/core/platform/cpu_feature_guard.cc:210] This TensorFlow binary is optimized to use available CPU instructions in performance-critical operations.\n",
      "To enable the following instructions: AVX2 FMA, in other operations, rebuild TensorFlow with the appropriate compiler flags.\n",
      "2024-04-16 06:15:51.601972: W tensorflow/compiler/tf2tensorrt/utils/py_utils.cc:38] TF-TRT Warning: Could not find TensorRT\n",
      "(6647219, 46)\n",
      "Before sparse.csr_matrix =  <class 'numpy.ndarray'>\n"
     ]
    }
   ],
   "source": [
    "!python3 src/graph4io_v1_step1_genGraph.py "
   ]
  },
  {
   "cell_type": "code",
   "execution_count": null,
   "id": "a37a25a7-78ef-40d6-b923-877606361f45",
   "metadata": {
    "tags": []
   },
   "outputs": [],
   "source": [
    "!python3 src/graph4io_v1_step2_trainHGNN.py "
   ]
  },
  {
   "cell_type": "code",
   "execution_count": null,
   "id": "d63ccc7f-04ee-41ee-b6e3-c82e89d467dc",
   "metadata": {},
   "outputs": [],
   "source": []
  }
 ],
 "metadata": {
  "kernelspec": {
   "display_name": "Python 3 (ipykernel)",
   "language": "python",
   "name": "python3"
  },
  "language_info": {
   "codemirror_mode": {
    "name": "ipython",
    "version": 3
   },
   "file_extension": ".py",
   "mimetype": "text/x-python",
   "name": "python",
   "nbconvert_exporter": "python",
   "pygments_lexer": "ipython3",
   "version": "3.10.11"
  }
 },
 "nbformat": 4,
 "nbformat_minor": 5
}
