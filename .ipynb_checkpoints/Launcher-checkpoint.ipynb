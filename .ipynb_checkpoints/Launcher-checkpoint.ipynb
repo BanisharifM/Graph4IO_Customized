{
 "cells": [
  {
   "cell_type": "code",
   "execution_count": 6,
   "id": "3315bea2-6b25-409f-bef2-cd776744c1db",
   "metadata": {
    "collapsed": true,
    "jupyter": {
     "outputs_hidden": true
    },
    "tags": []
   },
   "outputs": [
    {
     "name": "stdout",
     "output_type": "stream",
     "text": [
      "Defaulting to user installation because normal site-packages is not writeable\n",
      "Requirement already satisfied: torch>=1.6.0 in /opt/python310/lib/python3.10/site-packages (from -r src/requirements.txt (line 1)) (2.0.0+cu118)\n",
      "Requirement already satisfied: torch-geometric>=1.6.1 in /opt/python310/lib/python3.10/site-packages (from -r src/requirements.txt (line 2)) (2.4.0)\n",
      "Requirement already satisfied: torchvision>=0.7.0 in /opt/python310/lib/python3.10/site-packages (from -r src/requirements.txt (line 3)) (0.15.1+cu118)\n",
      "Requirement already satisfied: tensorboardX in /work/LAS/jannesar-lab/.ondemand/msharif/jupyter-envs/20230427/lib/python3.10/site-packages (from -r src/requirements.txt (line 4)) (2.6.2.2)\n",
      "Requirement already satisfied: seaborn==0.10.1 in /work/LAS/jannesar-lab/.ondemand/msharif/jupyter-envs/20230427/lib/python3.10/site-packages (from -r src/requirements.txt (line 5)) (0.10.1)\n",
      "Requirement already satisfied: omegaconf in /work/LAS/jannesar-lab/.ondemand/msharif/jupyter-envs/20230427/lib/python3.10/site-packages (from -r src/requirements.txt (line 7)) (2.3.0)\n",
      "Requirement already satisfied: tensorflow in /work/LAS/jannesar-lab/.ondemand/msharif/jupyter-envs/20230427/lib/python3.10/site-packages (from -r src/requirements.txt (line 8)) (2.16.1)\n",
      "Requirement already satisfied: scikeras in /work/LAS/jannesar-lab/.ondemand/msharif/jupyter-envs/20230427/lib/python3.10/site-packages (from -r src/requirements.txt (line 9)) (0.13.0)\n",
      "Collecting lightgbm (from -r src/requirements.txt (line 10))\n",
      "  Downloading lightgbm-4.3.0-py3-none-manylinux_2_28_x86_64.whl.metadata (19 kB)\n",
      "Collecting pyarrow (from -r src/requirements.txt (line 11))\n",
      "  Downloading pyarrow-15.0.2-cp310-cp310-manylinux_2_28_x86_64.whl.metadata (3.0 kB)\n",
      "Requirement already satisfied: dgl in /work/LAS/jannesar-lab/.ondemand/msharif/jupyter-envs/20230427/lib/python3.10/site-packages (from -r src/requirements.txt (line 12)) (1.1.3)\n",
      "Collecting pydantic (from -r src/requirements.txt (line 13))\n",
      "  Downloading pydantic-2.7.0-py3-none-any.whl.metadata (103 kB)\n",
      "\u001b[2K     \u001b[90m━━━━━━━━━━━━━━━━━━━━━━━━━━━━━━━━━━━━━\u001b[0m \u001b[32m103.4/103.4 kB\u001b[0m \u001b[31m712.8 kB/s\u001b[0m eta \u001b[36m0:00:00\u001b[0m00:01\u001b[0m\n",
      "\u001b[?25hRequirement already satisfied: numpy>=1.13.3 in /opt/python310/lib/python3.10/site-packages (from seaborn==0.10.1->-r src/requirements.txt (line 5)) (1.23.5)\n",
      "Requirement already satisfied: scipy>=1.0.1 in /opt/python310/lib/python3.10/site-packages (from seaborn==0.10.1->-r src/requirements.txt (line 5)) (1.10.1)\n",
      "Requirement already satisfied: pandas>=0.22.0 in /opt/python310/lib/python3.10/site-packages (from seaborn==0.10.1->-r src/requirements.txt (line 5)) (2.0.1)\n",
      "Requirement already satisfied: matplotlib>=2.1.2 in /opt/python310/lib/python3.10/site-packages (from seaborn==0.10.1->-r src/requirements.txt (line 5)) (3.7.1)\n",
      "Requirement already satisfied: filelock in /opt/python310/lib/python3.10/site-packages (from torch>=1.6.0->-r src/requirements.txt (line 1)) (3.9.0)\n",
      "Requirement already satisfied: typing-extensions in /opt/python310/lib/python3.10/site-packages (from torch>=1.6.0->-r src/requirements.txt (line 1)) (4.5.0)\n",
      "Requirement already satisfied: sympy in /opt/python310/lib/python3.10/site-packages (from torch>=1.6.0->-r src/requirements.txt (line 1)) (1.11.1)\n",
      "Requirement already satisfied: networkx in /opt/python310/lib/python3.10/site-packages (from torch>=1.6.0->-r src/requirements.txt (line 1)) (3.0)\n",
      "Requirement already satisfied: jinja2 in /opt/python310/lib/python3.10/site-packages (from torch>=1.6.0->-r src/requirements.txt (line 1)) (3.1.2)\n",
      "Requirement already satisfied: triton==2.0.0 in /opt/python310/lib/python3.10/site-packages (from torch>=1.6.0->-r src/requirements.txt (line 1)) (2.0.0)\n",
      "Requirement already satisfied: cmake in /opt/python310/lib/python3.10/site-packages (from triton==2.0.0->torch>=1.6.0->-r src/requirements.txt (line 1)) (3.25.0)\n",
      "Requirement already satisfied: lit in /opt/python310/lib/python3.10/site-packages (from triton==2.0.0->torch>=1.6.0->-r src/requirements.txt (line 1)) (15.0.7)\n",
      "Requirement already satisfied: tqdm in /opt/python310/lib/python3.10/site-packages (from torch-geometric>=1.6.1->-r src/requirements.txt (line 2)) (4.65.0)\n",
      "Requirement already satisfied: requests in /opt/python310/lib/python3.10/site-packages (from torch-geometric>=1.6.1->-r src/requirements.txt (line 2)) (2.29.0)\n",
      "Requirement already satisfied: pyparsing in /opt/python310/lib/python3.10/site-packages (from torch-geometric>=1.6.1->-r src/requirements.txt (line 2)) (3.0.9)\n",
      "Requirement already satisfied: scikit-learn in /work/LAS/jannesar-lab/.ondemand/msharif/jupyter-envs/20230427/lib/python3.10/site-packages (from torch-geometric>=1.6.1->-r src/requirements.txt (line 2)) (1.4.2)\n",
      "Requirement already satisfied: psutil>=5.8.0 in /opt/python310/lib/python3.10/site-packages (from torch-geometric>=1.6.1->-r src/requirements.txt (line 2)) (5.9.5)\n",
      "Requirement already satisfied: pillow!=8.3.*,>=5.3.0 in /opt/python310/lib/python3.10/site-packages (from torchvision>=0.7.0->-r src/requirements.txt (line 3)) (9.3.0)\n",
      "Requirement already satisfied: packaging in /opt/python310/lib/python3.10/site-packages (from tensorboardX->-r src/requirements.txt (line 4)) (23.1)\n",
      "Requirement already satisfied: protobuf>=3.20 in /opt/python310/lib/python3.10/site-packages (from tensorboardX->-r src/requirements.txt (line 4)) (4.22.3)\n",
      "Requirement already satisfied: antlr4-python3-runtime==4.9.* in /work/LAS/jannesar-lab/.ondemand/msharif/jupyter-envs/20230427/lib/python3.10/site-packages (from omegaconf->-r src/requirements.txt (line 7)) (4.9.3)\n",
      "Requirement already satisfied: PyYAML>=5.1.0 in /opt/python310/lib/python3.10/site-packages (from omegaconf->-r src/requirements.txt (line 7)) (6.0)\n",
      "Requirement already satisfied: absl-py>=1.0.0 in /opt/python310/lib/python3.10/site-packages (from tensorflow->-r src/requirements.txt (line 8)) (1.4.0)\n",
      "Requirement already satisfied: astunparse>=1.6.0 in /opt/python310/lib/python3.10/site-packages (from tensorflow->-r src/requirements.txt (line 8)) (1.6.3)\n",
      "Requirement already satisfied: flatbuffers>=23.5.26 in /work/LAS/jannesar-lab/.ondemand/msharif/jupyter-envs/20230427/lib/python3.10/site-packages (from tensorflow->-r src/requirements.txt (line 8)) (24.3.25)\n",
      "Requirement already satisfied: gast!=0.5.0,!=0.5.1,!=0.5.2,>=0.2.1 in /opt/python310/lib/python3.10/site-packages (from tensorflow->-r src/requirements.txt (line 8)) (0.4.0)\n",
      "Requirement already satisfied: google-pasta>=0.1.1 in /opt/python310/lib/python3.10/site-packages (from tensorflow->-r src/requirements.txt (line 8)) (0.2.0)\n",
      "Requirement already satisfied: h5py>=3.10.0 in /work/LAS/jannesar-lab/.ondemand/msharif/jupyter-envs/20230427/lib/python3.10/site-packages (from tensorflow->-r src/requirements.txt (line 8)) (3.11.0)\n",
      "Requirement already satisfied: libclang>=13.0.0 in /opt/python310/lib/python3.10/site-packages (from tensorflow->-r src/requirements.txt (line 8)) (16.0.0)\n",
      "Requirement already satisfied: ml-dtypes~=0.3.1 in /work/LAS/jannesar-lab/.ondemand/msharif/jupyter-envs/20230427/lib/python3.10/site-packages (from tensorflow->-r src/requirements.txt (line 8)) (0.3.2)\n",
      "Requirement already satisfied: opt-einsum>=2.3.2 in /opt/python310/lib/python3.10/site-packages (from tensorflow->-r src/requirements.txt (line 8)) (3.3.0)\n",
      "Requirement already satisfied: setuptools in /work/LAS/jannesar-lab/.ondemand/msharif/jupyter-envs/20230427/lib/python3.10/site-packages (from tensorflow->-r src/requirements.txt (line 8)) (65.5.0)\n",
      "Requirement already satisfied: six>=1.12.0 in /opt/python310/lib/python3.10/site-packages (from tensorflow->-r src/requirements.txt (line 8)) (1.16.0)\n",
      "Requirement already satisfied: termcolor>=1.1.0 in /opt/python310/lib/python3.10/site-packages (from tensorflow->-r src/requirements.txt (line 8)) (2.3.0)\n",
      "Requirement already satisfied: wrapt>=1.11.0 in /opt/python310/lib/python3.10/site-packages (from tensorflow->-r src/requirements.txt (line 8)) (1.14.1)\n",
      "Requirement already satisfied: grpcio<2.0,>=1.24.3 in /opt/python310/lib/python3.10/site-packages (from tensorflow->-r src/requirements.txt (line 8)) (1.54.0)\n",
      "Requirement already satisfied: tensorboard<2.17,>=2.16 in /work/LAS/jannesar-lab/.ondemand/msharif/jupyter-envs/20230427/lib/python3.10/site-packages (from tensorflow->-r src/requirements.txt (line 8)) (2.16.2)\n",
      "Requirement already satisfied: keras>=3.0.0 in /work/LAS/jannesar-lab/.ondemand/msharif/jupyter-envs/20230427/lib/python3.10/site-packages (from tensorflow->-r src/requirements.txt (line 8)) (3.2.1)\n",
      "Requirement already satisfied: tensorflow-io-gcs-filesystem>=0.23.1 in /opt/python310/lib/python3.10/site-packages (from tensorflow->-r src/requirements.txt (line 8)) (0.32.0)\n",
      "Collecting annotated-types>=0.4.0 (from pydantic->-r src/requirements.txt (line 13))\n",
      "  Downloading annotated_types-0.6.0-py3-none-any.whl.metadata (12 kB)\n",
      "Collecting pydantic-core==2.18.1 (from pydantic->-r src/requirements.txt (line 13))\n",
      "  Downloading pydantic_core-2.18.1-cp310-cp310-manylinux_2_17_x86_64.manylinux2014_x86_64.whl.metadata (6.5 kB)\n",
      "Collecting typing-extensions (from torch>=1.6.0->-r src/requirements.txt (line 1))\n",
      "  Downloading typing_extensions-4.11.0-py3-none-any.whl.metadata (3.0 kB)\n",
      "Requirement already satisfied: wheel<1.0,>=0.23.0 in /opt/python310/lib/python3.10/site-packages (from astunparse>=1.6.0->tensorflow->-r src/requirements.txt (line 8)) (0.40.0)\n",
      "Requirement already satisfied: rich in /work/LAS/jannesar-lab/.ondemand/msharif/jupyter-envs/20230427/lib/python3.10/site-packages (from keras>=3.0.0->tensorflow->-r src/requirements.txt (line 8)) (13.7.1)\n",
      "Requirement already satisfied: namex in /work/LAS/jannesar-lab/.ondemand/msharif/jupyter-envs/20230427/lib/python3.10/site-packages (from keras>=3.0.0->tensorflow->-r src/requirements.txt (line 8)) (0.0.7)\n",
      "Requirement already satisfied: optree in /work/LAS/jannesar-lab/.ondemand/msharif/jupyter-envs/20230427/lib/python3.10/site-packages (from keras>=3.0.0->tensorflow->-r src/requirements.txt (line 8)) (0.11.0)\n",
      "Requirement already satisfied: contourpy>=1.0.1 in /opt/python310/lib/python3.10/site-packages (from matplotlib>=2.1.2->seaborn==0.10.1->-r src/requirements.txt (line 5)) (1.0.7)\n",
      "Requirement already satisfied: cycler>=0.10 in /opt/python310/lib/python3.10/site-packages (from matplotlib>=2.1.2->seaborn==0.10.1->-r src/requirements.txt (line 5)) (0.11.0)\n",
      "Requirement already satisfied: fonttools>=4.22.0 in /opt/python310/lib/python3.10/site-packages (from matplotlib>=2.1.2->seaborn==0.10.1->-r src/requirements.txt (line 5)) (4.39.3)\n",
      "Requirement already satisfied: kiwisolver>=1.0.1 in /opt/python310/lib/python3.10/site-packages (from matplotlib>=2.1.2->seaborn==0.10.1->-r src/requirements.txt (line 5)) (1.4.4)\n",
      "Requirement already satisfied: python-dateutil>=2.7 in /opt/python310/lib/python3.10/site-packages (from matplotlib>=2.1.2->seaborn==0.10.1->-r src/requirements.txt (line 5)) (2.8.2)\n",
      "Requirement already satisfied: pytz>=2020.1 in /opt/python310/lib/python3.10/site-packages (from pandas>=0.22.0->seaborn==0.10.1->-r src/requirements.txt (line 5)) (2023.3)\n",
      "Requirement already satisfied: tzdata>=2022.1 in /opt/python310/lib/python3.10/site-packages (from pandas>=0.22.0->seaborn==0.10.1->-r src/requirements.txt (line 5)) (2023.3)\n",
      "Requirement already satisfied: charset-normalizer<4,>=2 in /opt/python310/lib/python3.10/site-packages (from requests->torch-geometric>=1.6.1->-r src/requirements.txt (line 2)) (3.1.0)\n",
      "Requirement already satisfied: idna<4,>=2.5 in /opt/python310/lib/python3.10/site-packages (from requests->torch-geometric>=1.6.1->-r src/requirements.txt (line 2)) (3.4)\n",
      "Requirement already satisfied: urllib3<1.27,>=1.21.1 in /opt/python310/lib/python3.10/site-packages (from requests->torch-geometric>=1.6.1->-r src/requirements.txt (line 2)) (1.26.15)\n",
      "Requirement already satisfied: certifi>=2017.4.17 in /opt/python310/lib/python3.10/site-packages (from requests->torch-geometric>=1.6.1->-r src/requirements.txt (line 2)) (2022.12.7)\n",
      "Requirement already satisfied: joblib>=1.2.0 in /opt/python310/lib/python3.10/site-packages (from scikit-learn->torch-geometric>=1.6.1->-r src/requirements.txt (line 2)) (1.2.0)\n",
      "Requirement already satisfied: threadpoolctl>=2.0.0 in /opt/python310/lib/python3.10/site-packages (from scikit-learn->torch-geometric>=1.6.1->-r src/requirements.txt (line 2)) (3.1.0)\n",
      "Requirement already satisfied: markdown>=2.6.8 in /opt/python310/lib/python3.10/site-packages (from tensorboard<2.17,>=2.16->tensorflow->-r src/requirements.txt (line 8)) (3.4.3)\n",
      "Requirement already satisfied: tensorboard-data-server<0.8.0,>=0.7.0 in /opt/python310/lib/python3.10/site-packages (from tensorboard<2.17,>=2.16->tensorflow->-r src/requirements.txt (line 8)) (0.7.0)\n",
      "Requirement already satisfied: werkzeug>=1.0.1 in /opt/python310/lib/python3.10/site-packages (from tensorboard<2.17,>=2.16->tensorflow->-r src/requirements.txt (line 8)) (2.3.1)\n",
      "Requirement already satisfied: MarkupSafe>=2.0 in /opt/python310/lib/python3.10/site-packages (from jinja2->torch>=1.6.0->-r src/requirements.txt (line 1)) (2.1.2)\n",
      "Requirement already satisfied: mpmath>=0.19 in /opt/python310/lib/python3.10/site-packages (from sympy->torch>=1.6.0->-r src/requirements.txt (line 1)) (1.2.1)\n",
      "Requirement already satisfied: markdown-it-py>=2.2.0 in /work/LAS/jannesar-lab/.ondemand/msharif/jupyter-envs/20230427/lib/python3.10/site-packages (from rich->keras>=3.0.0->tensorflow->-r src/requirements.txt (line 8)) (3.0.0)\n",
      "Requirement already satisfied: pygments<3.0.0,>=2.13.0 in /opt/python310/lib/python3.10/site-packages (from rich->keras>=3.0.0->tensorflow->-r src/requirements.txt (line 8)) (2.15.1)\n",
      "Requirement already satisfied: mdurl~=0.1 in /work/LAS/jannesar-lab/.ondemand/msharif/jupyter-envs/20230427/lib/python3.10/site-packages (from markdown-it-py>=2.2.0->rich->keras>=3.0.0->tensorflow->-r src/requirements.txt (line 8)) (0.1.2)\n",
      "Downloading lightgbm-4.3.0-py3-none-manylinux_2_28_x86_64.whl (3.1 MB)\n",
      "\u001b[2K   \u001b[90m━━━━━━━━━━━━━━━━━━━━━━━━━━━━━━━━━━━━━━━━\u001b[0m \u001b[32m3.1/3.1 MB\u001b[0m \u001b[31m28.5 MB/s\u001b[0m eta \u001b[36m0:00:00\u001b[0m00:01\u001b[0m00:01\u001b[0m\n",
      "\u001b[?25hDownloading pyarrow-15.0.2-cp310-cp310-manylinux_2_28_x86_64.whl (38.3 MB)\n",
      "\u001b[2K   \u001b[90m━━━━━━━━━━━━━━━━━━━━━━━━━━━━━━━━━━━━━━━━\u001b[0m \u001b[32m38.3/38.3 MB\u001b[0m \u001b[31m33.2 MB/s\u001b[0m eta \u001b[36m0:00:00\u001b[0m:00:01\u001b[0m00:01\u001b[0m\n",
      "\u001b[?25hDownloading pydantic-2.7.0-py3-none-any.whl (407 kB)\n",
      "\u001b[2K   \u001b[90m━━━━━━━━━━━━━━━━━━━━━━━━━━━━━━━━━━━━━━━━\u001b[0m \u001b[32m407.9/407.9 kB\u001b[0m \u001b[31m4.1 MB/s\u001b[0m eta \u001b[36m0:00:00\u001b[0m:00:01\u001b[0m\n",
      "\u001b[?25hDownloading pydantic_core-2.18.1-cp310-cp310-manylinux_2_17_x86_64.manylinux2014_x86_64.whl (2.1 MB)\n",
      "\u001b[2K   \u001b[90m━━━━━━━━━━━━━━━━━━━━━━━━━━━━━━━━━━━━━━━━\u001b[0m \u001b[32m2.1/2.1 MB\u001b[0m \u001b[31m8.6 MB/s\u001b[0m eta \u001b[36m0:00:00\u001b[0m0:00:01\u001b[0m\n",
      "\u001b[?25hDownloading annotated_types-0.6.0-py3-none-any.whl (12 kB)\n",
      "Downloading typing_extensions-4.11.0-py3-none-any.whl (34 kB)\n",
      "Installing collected packages: typing-extensions, pyarrow, annotated-types, pydantic-core, lightgbm, pydantic\n",
      "Successfully installed annotated-types-0.6.0 lightgbm-4.3.0 pyarrow-15.0.2 pydantic-2.7.0 pydantic-core-2.18.1 typing-extensions-4.11.0\n",
      "Note: you may need to restart the kernel to use updated packages.\n"
     ]
    }
   ],
   "source": [
    "pip install -r src/requirements.txt"
   ]
  },
  {
   "cell_type": "code",
   "execution_count": 25,
   "id": "59b61964-6141-4708-be54-4e791eedfeb5",
   "metadata": {
    "tags": []
   },
   "outputs": [
    {
     "name": "stdout",
     "output_type": "stream",
     "text": [
      "(121, 1)\n",
      "Before sparse.csr_matrix =  <class 'numpy.ndarray'>\n",
      "After  sparse.csr_matrix =  <class 'scipy.sparse._csr.csr_matrix'>\n",
      "max(Y) = 0.0 , min(Y) = 0.0\n",
      "input_dim_size =  0\n",
      "X_train.type= <class 'scipy.sparse._csr.csr_matrix'>\n",
      "X_train.shape= (90, 0)\n"
     ]
    }
   ],
   "source": [
    "!python3 src/graph4io_v1_step1_genGraph.py "
   ]
  },
  {
   "cell_type": "code",
   "execution_count": 23,
   "id": "a37a25a7-78ef-40d6-b923-877606361f45",
   "metadata": {
    "tags": []
   },
   "outputs": [
    {
     "name": "stdout",
     "output_type": "stream",
     "text": [
      "2024-04-12 02:17:22.181897: I external/local_tsl/tsl/cuda/cudart_stub.cc:32] Could not find cuda drivers on your machine, GPU will not be used.\n",
      "2024-04-12 02:17:22.184951: I external/local_tsl/tsl/cuda/cudart_stub.cc:32] Could not find cuda drivers on your machine, GPU will not be used.\n",
      "2024-04-12 02:17:22.218415: I tensorflow/core/platform/cpu_feature_guard.cc:210] This TensorFlow binary is optimized to use available CPU instructions in performance-critical operations.\n",
      "To enable the following instructions: AVX2 FMA, in other operations, rebuild TensorFlow with the appropriate compiler flags.\n",
      "2024-04-12 02:17:23.674019: W tensorflow/compiler/tf2tensorrt/utils/py_utils.cc:38] TF-TRT Warning: Could not find TensorRT\n",
      "Traceback (most recent call last):\n",
      "  File \"/work/LAS/jannesar-lab/Mahdi/Graph4IO/src/graph4io_v1_step2_trainHGNN.py\", line 32, in <module>\n",
      "    dataset_pg = dgl.data.CSVDataset(fopCsvGNNTrain,force_reload=True)\n",
      "  File \"/work/LAS/jannesar-lab/.ondemand/msharif/jupyter-envs/20230427/lib/python3.10/site-packages/dgl/data/csv_dataset.py\", line 96, in __init__\n",
      "    raise DGLError(\n",
      "dgl._ffi.base.DGLError: 'meta.yaml' cannot be found under results/graph4io-v1/csvGraph4IO/.\n"
     ]
    }
   ],
   "source": [
    "!python3 src/graph4io_v1_step2_trainHGNN.py "
   ]
  },
  {
   "cell_type": "code",
   "execution_count": 46,
   "id": "66612ee3-51b9-44dc-8c4c-7ef629d6e102",
   "metadata": {
    "tags": []
   },
   "outputs": [
    {
     "name": "stdout",
     "output_type": "stream",
     "text": [
      "2024-04-12 03:06:01.587519: I external/local_tsl/tsl/cuda/cudart_stub.cc:32] Could not find cuda drivers on your machine, GPU will not be used.\n",
      "2024-04-12 03:06:01.591224: I external/local_tsl/tsl/cuda/cudart_stub.cc:32] Could not find cuda drivers on your machine, GPU will not be used.\n",
      "2024-04-12 03:06:01.625548: I tensorflow/core/platform/cpu_feature_guard.cc:210] This TensorFlow binary is optimized to use available CPU instructions in performance-critical operations.\n",
      "To enable the following instructions: AVX2 FMA, in other operations, rebuild TensorFlow with the appropriate compiler flags.\n",
      "2024-04-12 03:06:03.171566: W tensorflow/compiler/tf2tensorrt/utils/py_utils.cc:38] TF-TRT Warning: Could not find TensorRT\n",
      "(121, 1)\n",
      "Before sparse.csr_matrix =  <class 'numpy.ndarray'>\n",
      "After  sparse.csr_matrix =  <class 'numpy.ndarray'>\n",
      "max(Y) = 0.0 , min(Y) = 0.0\n",
      "input_dim_size =  0\n",
      "X_train.type= <class 'numpy.ndarray'>\n",
      "X_train.shape= (90, 0)\n",
      "Traceback (most recent call last):\n",
      "  File \"/work/LAS/jannesar-lab/Mahdi/Graph4IO/src/test.py\", line 79, in <module>\n",
      "    list_x_train = X_train.toarray().tolist()\n",
      "AttributeError: 'numpy.ndarray' object has no attribute 'toarray'\n"
     ]
    }
   ],
   "source": [
    "!python3 src/test.py "
   ]
  },
  {
   "cell_type": "code",
   "execution_count": null,
   "id": "d63ccc7f-04ee-41ee-b6e3-c82e89d467dc",
   "metadata": {},
   "outputs": [],
   "source": []
  }
 ],
 "metadata": {
  "kernelspec": {
   "display_name": "Python 3 (ipykernel)",
   "language": "python",
   "name": "python3"
  },
  "language_info": {
   "codemirror_mode": {
    "name": "ipython",
    "version": 3
   },
   "file_extension": ".py",
   "mimetype": "text/x-python",
   "name": "python",
   "nbconvert_exporter": "python",
   "pygments_lexer": "ipython3",
   "version": "3.10.11"
  }
 },
 "nbformat": 4,
 "nbformat_minor": 5
}
