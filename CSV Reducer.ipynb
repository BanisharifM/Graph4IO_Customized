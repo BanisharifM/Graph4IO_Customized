{
 "cells": [
  {
   "cell_type": "code",
   "execution_count": 1,
   "id": "b67fab0d-03b3-476f-88f0-307916a90baa",
   "metadata": {
    "tags": []
   },
   "outputs": [
    {
     "name": "stdout",
     "output_type": "stream",
     "text": [
      "First 100 rows have been saved to the new CSV file.\n"
     ]
    }
   ],
   "source": [
    "import pandas as pd\n",
    "\n",
    "# Path to your original CSV file\n",
    "input_csv_file = 'data/sample_train.csv'\n",
    "\n",
    "# Path to the new CSV file that will contain the first 100 rows\n",
    "output_csv_file = 'data/sample_train_100.csv'\n",
    "\n",
    "# Read the CSV file\n",
    "df = pd.read_csv(input_csv_file)\n",
    "\n",
    "# Select the first 100 rows\n",
    "first_100_rows = df.head(100)\n",
    "\n",
    "# Save the first 100 rows into a new CSV file\n",
    "first_100_rows.to_csv(output_csv_file, index=False)\n",
    "\n",
    "print(\"First 100 rows have been saved to the new CSV file.\")\n"
   ]
  },
  {
   "cell_type": "code",
   "execution_count": null,
   "id": "09259108-46c4-4139-bf3f-e9e1fdaf221d",
   "metadata": {},
   "outputs": [],
   "source": []
  }
 ],
 "metadata": {
  "kernelspec": {
   "display_name": "Python 3 (ipykernel)",
   "language": "python",
   "name": "python3"
  },
  "language_info": {
   "codemirror_mode": {
    "name": "ipython",
    "version": 3
   },
   "file_extension": ".py",
   "mimetype": "text/x-python",
   "name": "python",
   "nbconvert_exporter": "python",
   "pygments_lexer": "ipython3",
   "version": "3.10.11"
  }
 },
 "nbformat": 4,
 "nbformat_minor": 5
}
